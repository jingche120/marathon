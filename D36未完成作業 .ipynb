{
 "cells": [
  {
   "cell_type": "markdown",
   "metadata": {},
   "source": [
    "## 作業:\n",
    "課程範例以 訓練資料集來檢視，先看一下測試資料特性，再把測試資料集和訓練資料集合併，並回答下列問題，   \n",
    "目的:讓大家熟悉對應這樣的問題，我們要提取怎樣的函數來進行計算。   \n",
    "\n",
    "* Q1: 觀察測試(test)資料集和訓練(Train)資料集的變數的差異性?\n",
    "* Q2: 測試資料集是否有遺失值?\n",
    "* Q3: 從合併資料選取一個變數，嘗試去做各種不同遺失值的處理，並透過圖形或數值來做輔助判斷，補值前與後的差異，你覺得以這個變數而言，試著說明每一個方法的差異。   \n"
   ]
  },
  {
   "cell_type": "code",
   "execution_count": 2,
   "metadata": {
    "colab": {
     "base_uri": "https://localhost:8080/",
     "height": 34
    },
    "colab_type": "code",
    "executionInfo": {
     "elapsed": 1558,
     "status": "ok",
     "timestamp": 1578021044012,
     "user": {
      "displayName": "Mora chen",
      "photoUrl": "https://lh3.googleusercontent.com/a-/AAuE7mB40f7sDArbZ5_DYq02nNcnLD0Ryaf7AhsASSQeLQ=s64",
      "userId": "03171203089166907199"
     },
     "user_tz": -480
    },
    "id": "yz28_IgkYdBW",
    "outputId": "a12f486c-18b3-4fb5-d06c-f162aebd9444"
   },
   "outputs": [],
   "source": [
    "#把需要的 library import 進來\n",
    "import pandas as pd\n",
    "import numpy as np\n",
    "import matplotlib.pyplot as plt\n",
    "import seaborn as sns\n",
    "\n",
    "from IPython.display import display\n",
    "#讓圖可以在 jupyter notebook顯示\n",
    "%matplotlib inline"
   ]
  },
  {
   "cell_type": "code",
   "execution_count": 3,
   "metadata": {},
   "outputs": [],
   "source": [
    "#顯示圖形的函數，可不先不用理解，直接用\n",
    "from IPython.display import display\n",
    "from IPython.display import display_html\n",
    "def display_side_by_side(*args):\n",
    "    html_str=''\n",
    "    for df in args:\n",
    "        html_str+=df.to_html()\n",
    "    display_html(html_str.replace('table','table style=\"display:inline\"'),raw=True)"
   ]
  },
  {
   "cell_type": "code",
   "execution_count": 8,
   "metadata": {},
   "outputs": [
    {
     "name": "stdout",
     "output_type": "stream",
     "text": [
      "   PassengerId  Pclass                                          Name     Sex  \\\n",
      "0          892       3                              Kelly, Mr. James    male   \n",
      "1          893       3              Wilkes, Mrs. James (Ellen Needs)  female   \n",
      "2          894       2                     Myles, Mr. Thomas Francis    male   \n",
      "3          895       3                              Wirz, Mr. Albert    male   \n",
      "4          896       3  Hirvonen, Mrs. Alexander (Helga E Lindqvist)  female   \n",
      "\n",
      "    Age  SibSp  Parch   Ticket     Fare Cabin Embarked  \n",
      "0  34.5      0      0   330911   7.8292   NaN        Q  \n",
      "1  47.0      1      0   363272   7.0000   NaN        S  \n",
      "2  62.0      0      0   240276   9.6875   NaN        Q  \n",
      "3  27.0      0      0   315154   8.6625   NaN        S  \n",
      "4  22.0      1      1  3101298  12.2875   NaN        S  \n",
      "   PassengerId  Survived  Pclass  \\\n",
      "0            1         0       3   \n",
      "1            2         1       1   \n",
      "2            3         1       3   \n",
      "3            4         1       1   \n",
      "4            5         0       3   \n",
      "\n",
      "                                                Name     Sex   Age  SibSp  \\\n",
      "0                            Braund, Mr. Owen Harris    male  22.0      1   \n",
      "1  Cumings, Mrs. John Bradley (Florence Briggs Th...  female  38.0      1   \n",
      "2                             Heikkinen, Miss. Laina  female  26.0      0   \n",
      "3       Futrelle, Mrs. Jacques Heath (Lily May Peel)  female  35.0      1   \n",
      "4                           Allen, Mr. William Henry    male  35.0      0   \n",
      "\n",
      "   Parch            Ticket     Fare Cabin Embarked  \n",
      "0      0         A/5 21171   7.2500   NaN        S  \n",
      "1      0          PC 17599  71.2833   C85        C  \n",
      "2      0  STON/O2. 3101282   7.9250   NaN        S  \n",
      "3      0            113803  53.1000  C123        S  \n",
      "4      0            373450   8.0500   NaN        S  \n"
     ]
    }
   ],
   "source": [
    "# 把兩個訓練資料集和測試資料集讀進來\n",
    "df_test = pd.read_csv('Titanic_test.csv')\n",
    "df_train = pd.read_csv('Titanic_train.csv')\n",
    "print(df_test.head(5))\n",
    "print(df_train.head(5))"
   ]
  },
  {
   "cell_type": "markdown",
   "metadata": {},
   "source": [
    "## Q1: 判斷 測試資料集和訓練資料集欄位變數是否有差異性?"
   ]
  },
  {
   "cell_type": "code",
   "execution_count": 13,
   "metadata": {},
   "outputs": [
    {
     "name": "stdout",
     "output_type": "stream",
     "text": [
      "Index(['PassengerId', 'Pclass', 'Name', 'Sex', 'Age', 'SibSp', 'Parch',\n",
      "       'Ticket', 'Fare', 'Cabin', 'Embarked'],\n",
      "      dtype='object')\n",
      "Index(['PassengerId', 'Survived', 'Pclass', 'Name', 'Sex', 'Age', 'SibSp',\n",
      "       'Parch', 'Ticket', 'Fare', 'Cabin', 'Embarked'],\n",
      "      dtype='object')\n"
     ]
    }
   ],
   "source": [
    "# Q1: 判斷 測試資料集和訓練資料集欄位變數是否有差異性?\n",
    "'''\n",
    "暗示，可以用那些函數，來看出資料的欄位變數\n",
    "'''\n",
    "print(df_test.columns)\n",
    "print(df_train.columns)\n"
   ]
  },
  {
   "cell_type": "markdown",
   "metadata": {},
   "source": [
    "## A1 : Test 資料集沒有 'Survived'"
   ]
  },
  {
   "cell_type": "markdown",
   "metadata": {},
   "source": [
    "## Q2: 測試資料集是否有遺失值?"
   ]
  },
  {
   "cell_type": "code",
   "execution_count": 16,
   "metadata": {},
   "outputs": [
    {
     "name": "stdout",
     "output_type": "stream",
     "text": [
      "     PassengerId  Pclass   Name    Sex    Age  SibSp  Parch  Ticket   Fare  \\\n",
      "0          False   False  False  False  False  False  False   False  False   \n",
      "1          False   False  False  False  False  False  False   False  False   \n",
      "2          False   False  False  False  False  False  False   False  False   \n",
      "3          False   False  False  False  False  False  False   False  False   \n",
      "4          False   False  False  False  False  False  False   False  False   \n",
      "..           ...     ...    ...    ...    ...    ...    ...     ...    ...   \n",
      "413        False   False  False  False   True  False  False   False  False   \n",
      "414        False   False  False  False  False  False  False   False  False   \n",
      "415        False   False  False  False  False  False  False   False  False   \n",
      "416        False   False  False  False   True  False  False   False  False   \n",
      "417        False   False  False  False   True  False  False   False  False   \n",
      "\n",
      "     Cabin  Embarked  \n",
      "0     True     False  \n",
      "1     True     False  \n",
      "2     True     False  \n",
      "3     True     False  \n",
      "4     True     False  \n",
      "..     ...       ...  \n",
      "413   True     False  \n",
      "414  False     False  \n",
      "415   True     False  \n",
      "416   True     False  \n",
      "417   True     False  \n",
      "\n",
      "[418 rows x 11 columns]\n",
      "     PassengerId  Survived  Pclass   Name    Sex    Age  SibSp  Parch  Ticket  \\\n",
      "0          False     False   False  False  False  False  False  False   False   \n",
      "1          False     False   False  False  False  False  False  False   False   \n",
      "2          False     False   False  False  False  False  False  False   False   \n",
      "3          False     False   False  False  False  False  False  False   False   \n",
      "4          False     False   False  False  False  False  False  False   False   \n",
      "..           ...       ...     ...    ...    ...    ...    ...    ...     ...   \n",
      "886        False     False   False  False  False  False  False  False   False   \n",
      "887        False     False   False  False  False  False  False  False   False   \n",
      "888        False     False   False  False  False   True  False  False   False   \n",
      "889        False     False   False  False  False  False  False  False   False   \n",
      "890        False     False   False  False  False  False  False  False   False   \n",
      "\n",
      "      Fare  Cabin  Embarked  \n",
      "0    False   True     False  \n",
      "1    False  False     False  \n",
      "2    False   True     False  \n",
      "3    False  False     False  \n",
      "4    False   True     False  \n",
      "..     ...    ...       ...  \n",
      "886  False   True     False  \n",
      "887  False  False     False  \n",
      "888  False   True     False  \n",
      "889  False  False     False  \n",
      "890  False   True     False  \n",
      "\n",
      "[891 rows x 12 columns]\n"
     ]
    }
   ],
   "source": [
    "#可以嘗試用範例的程式\n",
    "print(df_test.isnull())\n",
    "print(df_train.isnull())"
   ]
  },
  {
   "cell_type": "markdown",
   "metadata": {},
   "source": [
    "## Q3: 從合併資料選取一個變數，嘗試去做各種不同遺失值的處理，並透過圖形來做輔助判斷，補值前與後的差異，你覺得以這個變數而言，試著說明每一個方法的差異。   "
   ]
  },
  {
   "cell_type": "code",
   "execution_count": 20,
   "metadata": {},
   "outputs": [
    {
     "data": {
      "text/plain": [
       "0       NaN\n",
       "1       NaN\n",
       "2       NaN\n",
       "3       NaN\n",
       "4       NaN\n",
       "       ... \n",
       "413     NaN\n",
       "414    C105\n",
       "415     NaN\n",
       "416     NaN\n",
       "417     NaN\n",
       "Name: Cabin, Length: 418, dtype: object"
      ]
     },
     "execution_count": 20,
     "metadata": {},
     "output_type": "execute_result"
    }
   ],
   "source": [
    "#合併資料\n",
    "df_test['Cabin']"
   ]
  },
  {
   "cell_type": "code",
   "execution_count": 14,
   "metadata": {},
   "outputs": [],
   "source": [
    "# 以 XXX 為例，先看 Cabin  出現值的特性\n",
    "\n"
   ]
  }
 ],
 "metadata": {
  "colab": {
   "name": "Day33.YOLO 細節理解 - 網路輸出的後處理_HW.ipynb",
   "provenance": []
  },
  "kernelspec": {
   "display_name": "Python 3",
   "language": "python",
   "name": "python3"
  },
  "language_info": {
   "codemirror_mode": {
    "name": "ipython",
    "version": 3
   },
   "file_extension": ".py",
   "mimetype": "text/x-python",
   "name": "python",
   "nbconvert_exporter": "python",
   "pygments_lexer": "ipython3",
   "version": "3.8.3"
  }
 },
 "nbformat": 4,
 "nbformat_minor": 1
}
